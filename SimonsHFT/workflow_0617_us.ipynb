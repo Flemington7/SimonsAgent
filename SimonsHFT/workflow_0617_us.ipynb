{
 "cells": [
  {
   "cell_type": "markdown",
   "metadata": {},
   "source": [
    "<a href=\"https://colab.research.google.com/github/microsoft/qlib/blob/main/examples/workflow_by_code.ipynb\" target=\"_parent\"><img src=\"https://colab.research.google.com/assets/colab-badge.svg\" alt=\"Open In Colab\"/></a>"
   ]
  },
  {
   "cell_type": "code",
   "execution_count": null,
   "metadata": {},
   "outputs": [],
   "source": [
    "#  Copyright (c) Microsoft Corporation.\n",
    "#  Licensed under the MIT License."
   ]
  },
  {
   "cell_type": "code",
   "execution_count": null,
   "metadata": {},
   "outputs": [],
   "source": [
    "from copy import deepcopy\n",
    "import qlib\n",
    "import pandas as pd\n",
    "from qlib.constant import REG_US\n",
    "from qlib.data import D\n",
    "from qlib.data.dataset.handler import DataHandlerLP\n",
    "from qlib.contrib.data.handler import Alpha158\n",
    "from qlib.utils import exists_qlib_data, init_instance_by_config, flatten_dict\n",
    "from qlib.workflow import R\n",
    "from qlib.workflow.record_temp import SignalRecord, PortAnaRecord\n",
    "from qlib.contrib.report import analysis_model, analysis_position"
   ]
  },
  {
   "cell_type": "code",
   "execution_count": null,
   "metadata": {},
   "outputs": [],
   "source": [
    "MARKET = \"nasdaq100\"\n",
    "BENCHMARK = \"QQQ\"\n",
    "\n",
    "EXP_NAME = \"nested\""
   ]
  },
  {
   "cell_type": "markdown",
   "metadata": {},
   "source": [
    "## initialize qlib"
   ]
  },
  {
   "cell_type": "code",
   "execution_count": null,
   "metadata": {},
   "outputs": [],
   "source": [
    "# use custom data\n",
    "# NOTE: need to download data from remote: python scripts/get_data.py qlib_data_us --target_dir /root/onethingai-tmp/.qlib/qlib_data/us_data\n",
    "provider_uri = \"/root/onethingai-tmp/.qlib/qlib_data/us_data\"  # target_dir\n",
    "if not exists_qlib_data(provider_uri):\n",
    "    print(f\"Qlib data is not found in {provider_uri}\")\n",
    "qlib.init(provider_uri=provider_uri, region=REG_US)"
   ]
  },
  {
   "cell_type": "code",
   "execution_count": null,
   "metadata": {
    "tags": []
   },
   "outputs": [],
   "source": [
    "###################################\n",
    "# initialize qlib\n",
    "###################################\n",
    "provider_uri_day = \"/root/onethingai-tmp/.qlib/qlib_data/us_data\" # target_dir\n",
    "provider_uri_1min = \"/root/onethingai-tmp/.qlib/qlib_data/us_data_1min\"\n",
    "\n",
    "if not exists_qlib_data(provider_uri_day) or not exists_qlib_data(provider_uri_1min):\n",
    "    print(f\"Qlib data is not found in {provider_uri_day} or {provider_uri_1min}\")\n",
    "\n",
    "provider_uri_map = {\"1min\": provider_uri_1min, \"day\": provider_uri_day}\n",
    "\n",
    "qlib.init(provider_uri=provider_uri_map, dataset_cache=None, expression_cache=None)"
   ]
  },
  {
   "cell_type": "markdown",
   "metadata": {},
   "source": [
    "## data handler"
   ]
  },
  {
   "cell_type": "code",
   "execution_count": null,
   "metadata": {},
   "outputs": [],
   "source": [
    "_DEFAULT_LEARN_PROCESSORS = [\n",
    "    {\"class\": \"DropnaLabel\"},\n",
    "    {\"class\": \"CSZScoreNorm\", \"kwargs\": {\"fields_group\": \"label\"}},\n",
    "]\n",
    "\n",
    "class Alpha159(Alpha158):\n",
    "    def __init__(\n",
    "        self,\n",
    "        instruments=\"csi500\",\n",
    "        start_time=None,\n",
    "        end_time=None,\n",
    "        freq=\"day\",\n",
    "        infer_processors=[],\n",
    "        learn_processors=_DEFAULT_LEARN_PROCESSORS,\n",
    "        fit_start_time=None,\n",
    "        fit_end_time=None,\n",
    "        process_type=DataHandlerLP.PTYPE_A,\n",
    "        filter_pipe=None,\n",
    "        inst_processors=None,\n",
    "        **kwargs\n",
    "    ):\n",
    "        # Initialize the handler\n",
    "        super().__init__(\n",
    "            instruments=instruments,\n",
    "            start_time=start_time,\n",
    "            end_time=end_time,\n",
    "            freq=freq,\n",
    "            infer_processors=infer_processors,\n",
    "            learn_processors=learn_processors,\n",
    "            fit_start_time=fit_start_time,\n",
    "            fit_end_time=fit_end_time,\n",
    "            process_type=process_type,\n",
    "            filter_pipe=filter_pipe,\n",
    "            inst_processors=inst_processors,\n",
    "            **kwargs\n",
    "        )\n",
    "        \n",
    "    def get_feature_config(self):\n",
    "        # Get the feature configuration\n",
    "        fields, names = super().get_feature_config()\n",
    "        fields.append('$sentiment')\n",
    "        names.append('SENTIMENT_SCORE')\n",
    "        return fields, names\n",
    "    \n",
    "handler_kwargs = {\n",
    "    \"start_time\": \"2008-01-01\",\n",
    "    \"end_time\": \"2024-06-13\",\n",
    "    \"fit_start_time\": \"2008-01-01\",\n",
    "    \"fit_end_time\": \"2014-12-31\",\n",
    "    \"instruments\": MARKET,\n",
    "}\n",
    "\n",
    "handler = Alpha159(**handler_kwargs)"
   ]
  },
  {
   "cell_type": "markdown",
   "metadata": {},
   "source": [
    "## train model"
   ]
  },
  {
   "cell_type": "code",
   "execution_count": null,
   "metadata": {
    "tags": []
   },
   "outputs": [],
   "source": [
    "###################################\n",
    "# train model\n",
    "###################################\n",
    "task = {\n",
    "    \"model\": {\n",
    "        \"class\": \"LGBModel\",\n",
    "        \"module_path\": \"qlib.contrib.model.gbdt\",\n",
    "        \"kwargs\": {\n",
    "            \"loss\": \"mse\",\n",
    "            \"colsample_bytree\": 0.8879,\n",
    "            \"learning_rate\": 0.0421,\n",
    "            \"subsample\": 0.8789,\n",
    "            \"lambda_l1\": 205.6999,\n",
    "            \"lambda_l2\": 580.9768,\n",
    "            \"max_depth\": 8,\n",
    "            \"num_leaves\": 210,\n",
    "            \"num_threads\": 20,\n",
    "        },\n",
    "    },\n",
    "    \"dataset\": {\n",
    "        \"class\": \"DatasetH\",\n",
    "        \"module_path\": \"qlib.data.dataset\",\n",
    "        \"kwargs\": {\n",
    "            \"handler\": handler,\n",
    "            \"segments\": {\n",
    "                \"train\": (\"2008-01-01\", \"2014-12-31\"),\n",
    "                \"valid\": (\"2015-01-01\", \"2016-12-31\"),\n",
    "                \"test\": (\"2020-01-01\", \"2020-08-01\"),\n",
    "            },\n",
    "        },\n",
    "    },\n",
    "}\n",
    "\n",
    "# model initialization\n",
    "model = init_instance_by_config(task[\"model\"])\n",
    "dataset = init_instance_by_config(task[\"dataset\"])\n",
    "\n",
    "with R.start(experiment_name=\"train_model\"):\n",
    "    R.log_params(**flatten_dict(task))\n",
    "    model.fit(dataset)\n",
    "    R.save_objects(trained_model=model)\n",
    "    rid = R.get_recorder().id"
   ]
  },
  {
   "cell_type": "markdown",
   "metadata": {},
   "source": [
    "# prediction, backtest & analysis"
   ]
  },
  {
   "cell_type": "code",
   "execution_count": null,
   "metadata": {
    "tags": []
   },
   "outputs": [],
   "source": [
    "###################################\n",
    "# prediction, backtest & analysis\n",
    "###################################\n",
    "port_analysis_config = {\n",
    "    \"executor\": {\n",
    "        \"class\": \"NestedExecutor\",\n",
    "        \"module_path\": \"qlib.backtest.executor\",\n",
    "        \"kwargs\": {\n",
    "            \"time_per_step\": \"day\",\n",
    "            \"inner_executor\": {\n",
    "                \"class\": \"NestedExecutor\",\n",
    "                \"module_path\": \"qlib.backtest.executor\",\n",
    "                \"kwargs\": {\n",
    "                    \"time_per_step\": \"30min\",\n",
    "                    \"inner_executor\": {\n",
    "                        \"class\": \"SimulatorExecutor\",\n",
    "                        \"module_path\": \"qlib.backtest.executor\",\n",
    "                        \"kwargs\": {\n",
    "                            \"time_per_step\": \"5min\",\n",
    "                            \"generate_portfolio_metrics\": True,\n",
    "                            \"verbose\": True,\n",
    "                            \"indicator_config\": {\n",
    "                                \"show_indicator\": True,\n",
    "                            },\n",
    "                        },\n",
    "                    },\n",
    "                    \"inner_strategy\": {\n",
    "                        \"class\": \"TWAPStrategy\",\n",
    "                        \"module_path\": \"qlib.contrib.strategy.rule_strategy\",\n",
    "                    },\n",
    "                    \"generate_portfolio_metrics\": True,\n",
    "                    \"indicator_config\": {\n",
    "                        \"show_indicator\": True,\n",
    "                    },\n",
    "                },\n",
    "            },\n",
    "            \"inner_strategy\": {\n",
    "                \"class\": \"SBBStrategyEMA\",\n",
    "                \"module_path\": \"qlib.contrib.strategy.rule_strategy\",\n",
    "                \"kwargs\": {\n",
    "                    \"instruments\": MARKET,\n",
    "                    \"freq\": \"1min\",\n",
    "                },\n",
    "            },\n",
    "            \"track_data\": True,\n",
    "            \"generate_portfolio_metrics\": True,\n",
    "            \"indicator_config\": {\n",
    "                \"show_indicator\": True,\n",
    "            },\n",
    "        },\n",
    "    },\n",
    "    \"backtest\": {\n",
    "        \"start_time\": \"2020-01-01\",\n",
    "        \"end_time\": \"2020-08-01\",\n",
    "        \"account\": 100000000,\n",
    "        \"BENCHMARK\": BENCHMARK,\n",
    "        \"exchange_kwargs\": {\n",
    "            \"freq\": \"1min\",\n",
    "            \"limit_threshold\": 0.095,\n",
    "            \"deal_price\": \"close\",\n",
    "            \"open_cost\": 0.0005,\n",
    "            \"close_cost\": 0.0015,\n",
    "            \"min_cost\": 5,\n",
    "        },\n",
    "    },\n",
    "}\n",
    "\n",
    "strategy_config = {\n",
    "    \"class\": \"TopkDropoutStrategy\",\n",
    "    \"module_path\": \"qlib.contrib.strategy.signal_strategy\",\n",
    "    \"kwargs\": {\n",
    "        \"signal\": (model, dataset),\n",
    "        \"topk\": 50,\n",
    "        \"n_drop\": 5,\n",
    "    },\n",
    "}\n",
    "port_analysis_config[\"strategy\"] = strategy_config\n",
    "\n",
    "# backtest and analysis\n",
    "with R.start(experiment_name=EXP_NAME, resume=True):\n",
    "    recorder = R.get_recorder(recorder_id=rid, experiment_name=\"train_model\")\n",
    "    model = recorder.load_object(\"trained_model\")\n",
    "\n",
    "    # prediction\n",
    "    recorder = R.get_recorder()\n",
    "    ba_rid = recorder.id\n",
    "    sr = SignalRecord(model, dataset, recorder)\n",
    "    sr.generate()\n",
    "\n",
    "    # backtest & analysis\n",
    "    par = PortAnaRecord(\n",
    "        recorder,\n",
    "        port_analysis_config,\n",
    "        indicator_analysis_method=\"value_weighted\",\n",
    "    )\n",
    "    par.generate()"
   ]
  },
  {
   "cell_type": "markdown",
   "metadata": {},
   "source": [
    "# analyze graphs"
   ]
  },
  {
   "cell_type": "code",
   "execution_count": null,
   "metadata": {},
   "outputs": [],
   "source": [
    "# load recorder\n",
    "recorder = R.get_recorder(recorder_id=ba_rid, experiment_name=\"backtest_analysis\")\n",
    "\n",
    "# load previous results\n",
    "pred_df = recorder.load_object(\"pred.pkl\")\n",
    "report_normal_df = recorder.load_object(\"portfolio_analysis/report_normal_1day.pkl\")\n",
    "positions = recorder.load_object(\"portfolio_analysis/positions_normal_1day.pkl\")\n",
    "analysis_df = recorder.load_object(\"portfolio_analysis/port_analysis_1day.pkl\")"
   ]
  },
  {
   "cell_type": "markdown",
   "metadata": {},
   "source": [
    "## analysis position"
   ]
  },
  {
   "cell_type": "markdown",
   "metadata": {},
   "source": [
    "### report"
   ]
  },
  {
   "cell_type": "code",
   "execution_count": null,
   "metadata": {},
   "outputs": [],
   "source": [
    "analysis_position.report_graph(report_normal_df)"
   ]
  },
  {
   "cell_type": "markdown",
   "metadata": {},
   "source": [
    "### risk analysis"
   ]
  },
  {
   "cell_type": "code",
   "execution_count": null,
   "metadata": {},
   "outputs": [],
   "source": [
    "analysis_position.risk_analysis_graph(analysis_df, report_normal_df)"
   ]
  },
  {
   "cell_type": "markdown",
   "metadata": {},
   "source": [
    "## analysis model"
   ]
  },
  {
   "cell_type": "code",
   "execution_count": null,
   "metadata": {},
   "outputs": [],
   "source": [
    "label_df = dataset.prepare(\"test\", col_set=\"label\")\n",
    "label_df.columns = [\"label\"]"
   ]
  },
  {
   "cell_type": "markdown",
   "metadata": {},
   "source": [
    "### score IC"
   ]
  },
  {
   "cell_type": "code",
   "execution_count": null,
   "metadata": {},
   "outputs": [],
   "source": [
    "pred_label = pd.concat([label_df, pred_df], axis=1, sort=True).reindex(label_df.index)\n",
    "analysis_position.score_ic_graph(pred_label)"
   ]
  },
  {
   "cell_type": "markdown",
   "metadata": {},
   "source": [
    "### model performance"
   ]
  },
  {
   "cell_type": "code",
   "execution_count": null,
   "metadata": {},
   "outputs": [],
   "source": [
    "analysis_model.model_performance_graph(pred_label)"
   ]
  }
 ],
 "metadata": {
  "kernelspec": {
   "display_name": "Python 3 (ipykernel)",
   "language": "python",
   "name": "python3"
  },
  "language_info": {
   "codemirror_mode": {
    "name": "ipython",
    "version": 3
   },
   "file_extension": ".py",
   "mimetype": "text/x-python",
   "name": "python",
   "nbconvert_exporter": "python",
   "pygments_lexer": "ipython3",
   "version": "3.8.19"
  },
  "toc": {
   "base_numbering": 1,
   "nav_menu": {},
   "number_sections": true,
   "sideBar": true,
   "skip_h1_title": false,
   "title_cell": "Table of Contents",
   "title_sidebar": "Contents",
   "toc_cell": false,
   "toc_position": {},
   "toc_section_display": true,
   "toc_window_display": false
  }
 },
 "nbformat": 4,
 "nbformat_minor": 4
}
