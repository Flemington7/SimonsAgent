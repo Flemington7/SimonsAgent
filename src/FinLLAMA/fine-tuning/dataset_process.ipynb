{
    "cells": [
        {
            "cell_type": "markdown",
            "metadata": {},
            "source": [
                "# Dataset Preprocessing with Hugging Face `datasets` Library\n",
                "In this notebook, we will demonstrate how to load a CSV dataset, preprocess it, and split it into training and test sets using Hugging Face's `datasets` library."
            ]
        },
        {
            "cell_type": "markdown",
            "metadata": {},
            "source": [
                "## Install Required Libraries\n",
                "First, we need to install the `datasets` and `transformers` libraries. Uncomment and run the cell below if you haven't installed them yet."
            ]
        },
        {
            "cell_type": "code",
            "execution_count": 4,
            "metadata": {},
            "outputs": [
                {
                    "name": "stdout",
                    "output_type": "stream",
                    "text": [
                        "Requirement already satisfied: datasets in c:\\users\\flemingtonyeh\\anaconda3\\envs\\llama\\lib\\site-packages (2.19.1)\n",
                        "Requirement already satisfied: filelock in c:\\users\\flemingtonyeh\\anaconda3\\envs\\llama\\lib\\site-packages (from datasets) (3.13.1)\n",
                        "Requirement already satisfied: numpy>=1.17 in c:\\users\\flemingtonyeh\\anaconda3\\envs\\llama\\lib\\site-packages (from datasets) (1.26.3)\n",
                        "Requirement already satisfied: pyarrow>=12.0.0 in c:\\users\\flemingtonyeh\\anaconda3\\envs\\llama\\lib\\site-packages (from datasets) (16.1.0)\n",
                        "Requirement already satisfied: pyarrow-hotfix in c:\\users\\flemingtonyeh\\anaconda3\\envs\\llama\\lib\\site-packages (from datasets) (0.6)\n",
                        "Requirement already satisfied: dill<0.3.9,>=0.3.0 in c:\\users\\flemingtonyeh\\anaconda3\\envs\\llama\\lib\\site-packages (from datasets) (0.3.8)\n",
                        "Requirement already satisfied: pandas in c:\\users\\flemingtonyeh\\anaconda3\\envs\\llama\\lib\\site-packages (from datasets) (2.2.2)\n",
                        "Requirement already satisfied: requests>=2.19.0 in c:\\users\\flemingtonyeh\\anaconda3\\envs\\llama\\lib\\site-packages (from datasets) (2.31.0)\n",
                        "Requirement already satisfied: tqdm>=4.62.1 in c:\\users\\flemingtonyeh\\anaconda3\\envs\\llama\\lib\\site-packages (from datasets) (4.66.4)\n",
                        "Requirement already satisfied: xxhash in c:\\users\\flemingtonyeh\\anaconda3\\envs\\llama\\lib\\site-packages (from datasets) (3.4.1)\n",
                        "Requirement already satisfied: multiprocess in c:\\users\\flemingtonyeh\\anaconda3\\envs\\llama\\lib\\site-packages (from datasets) (0.70.16)\n",
                        "Requirement already satisfied: fsspec<=2024.3.1,>=2023.1.0 in c:\\users\\flemingtonyeh\\anaconda3\\envs\\llama\\lib\\site-packages (from fsspec[http]<=2024.3.1,>=2023.1.0->datasets) (2024.2.0)\n",
                        "Requirement already satisfied: aiohttp in c:\\users\\flemingtonyeh\\anaconda3\\envs\\llama\\lib\\site-packages (from datasets) (3.9.5)\n",
                        "Requirement already satisfied: huggingface-hub>=0.21.2 in c:\\users\\flemingtonyeh\\anaconda3\\envs\\llama\\lib\\site-packages (from datasets) (0.23.0)\n",
                        "Requirement already satisfied: packaging in c:\\users\\flemingtonyeh\\anaconda3\\envs\\llama\\lib\\site-packages (from datasets) (24.0)\n",
                        "Requirement already satisfied: pyyaml>=5.1 in c:\\users\\flemingtonyeh\\anaconda3\\envs\\llama\\lib\\site-packages (from datasets) (6.0.1)\n",
                        "Requirement already satisfied: aiosignal>=1.1.2 in c:\\users\\flemingtonyeh\\anaconda3\\envs\\llama\\lib\\site-packages (from aiohttp->datasets) (1.3.1)\n",
                        "Requirement already satisfied: attrs>=17.3.0 in c:\\users\\flemingtonyeh\\anaconda3\\envs\\llama\\lib\\site-packages (from aiohttp->datasets) (23.2.0)\n",
                        "Requirement already satisfied: frozenlist>=1.1.1 in c:\\users\\flemingtonyeh\\anaconda3\\envs\\llama\\lib\\site-packages (from aiohttp->datasets) (1.4.1)\n",
                        "Requirement already satisfied: multidict<7.0,>=4.5 in c:\\users\\flemingtonyeh\\anaconda3\\envs\\llama\\lib\\site-packages (from aiohttp->datasets) (6.0.5)\n",
                        "Requirement already satisfied: yarl<2.0,>=1.0 in c:\\users\\flemingtonyeh\\anaconda3\\envs\\llama\\lib\\site-packages (from aiohttp->datasets) (1.9.4)\n",
                        "Requirement already satisfied: typing-extensions>=3.7.4.3 in c:\\users\\flemingtonyeh\\anaconda3\\envs\\llama\\lib\\site-packages (from huggingface-hub>=0.21.2->datasets) (4.12.1)\n",
                        "Requirement already satisfied: charset-normalizer<4,>=2 in c:\\users\\flemingtonyeh\\anaconda3\\envs\\llama\\lib\\site-packages (from requests>=2.19.0->datasets) (3.3.2)\n",
                        "Requirement already satisfied: idna<4,>=2.5 in c:\\users\\flemingtonyeh\\anaconda3\\envs\\llama\\lib\\site-packages (from requests>=2.19.0->datasets) (3.7)\n",
                        "Requirement already satisfied: urllib3<3,>=1.21.1 in c:\\users\\flemingtonyeh\\anaconda3\\envs\\llama\\lib\\site-packages (from requests>=2.19.0->datasets) (2.2.1)\n",
                        "Requirement already satisfied: certifi>=2017.4.17 in c:\\users\\flemingtonyeh\\anaconda3\\envs\\llama\\lib\\site-packages (from requests>=2.19.0->datasets) (2024.2.2)\n",
                        "Requirement already satisfied: colorama in c:\\users\\flemingtonyeh\\anaconda3\\envs\\llama\\lib\\site-packages (from tqdm>=4.62.1->datasets) (0.4.6)\n",
                        "Requirement already satisfied: python-dateutil>=2.8.2 in c:\\users\\flemingtonyeh\\anaconda3\\envs\\llama\\lib\\site-packages (from pandas->datasets) (2.9.0)\n",
                        "Requirement already satisfied: pytz>=2020.1 in c:\\users\\flemingtonyeh\\anaconda3\\envs\\llama\\lib\\site-packages (from pandas->datasets) (2024.1)\n",
                        "Requirement already satisfied: tzdata>=2022.7 in c:\\users\\flemingtonyeh\\anaconda3\\envs\\llama\\lib\\site-packages (from pandas->datasets) (2024.1)\n",
                        "Requirement already satisfied: six>=1.5 in c:\\users\\flemingtonyeh\\anaconda3\\envs\\llama\\lib\\site-packages (from python-dateutil>=2.8.2->pandas->datasets) (1.16.0)\n"
                    ]
                }
            ],
            "source": [
                "!pip install datasets"
            ]
        },
        {
            "cell_type": "markdown",
            "metadata": {},
            "source": [
                "## Load Dataset\n",
                "We will load a CSV dataset named `data.csv` which contains two columns: `label` and `text`. You need to make sure that the CSV file is encoded in UTF-8 format."
            ]
        },
        {
            "cell_type": "code",
            "execution_count": 7,
            "metadata": {},
            "outputs": [
                {
                    "name": "stderr",
                    "output_type": "stream",
                    "text": [
                        "Generating train split: 4846 examples [00:00, 138781.06 examples/s]\n"
                    ]
                },
                {
                    "data": {
                        "text/plain": [
                            "DatasetDict({\n",
                            "    train: Dataset({\n",
                            "        features: ['label', 'text'],\n",
                            "        num_rows: 4846\n",
                            "    })\n",
                            "})"
                        ]
                    },
                    "execution_count": 7,
                    "metadata": {},
                    "output_type": "execute_result"
                }
            ],
            "source": [
                "from datasets import load_dataset\n",
                "\n",
                "# Load the CSV dataset\n",
                "dataset = load_dataset(\"csv\", data_files=\"sentiment_dataset.csv\")\n",
                "\n",
                "dataset"
            ]
        },
        {
            "cell_type": "markdown",
            "metadata": {},
            "source": [
                "## Split Dataset\n",
                "We will split the dataset into training and test sets with an 80-20 split."
            ]
        },
        {
            "cell_type": "code",
            "execution_count": 8,
            "metadata": {},
            "outputs": [
                {
                    "data": {
                        "text/plain": [
                            "(Dataset({\n",
                            "     features: ['label', 'text'],\n",
                            "     num_rows: 3876\n",
                            " }),\n",
                            " Dataset({\n",
                            "     features: ['label', 'text'],\n",
                            "     num_rows: 970\n",
                            " }))"
                        ]
                    },
                    "execution_count": 8,
                    "metadata": {},
                    "output_type": "execute_result"
                }
            ],
            "source": [
                "# Split the dataset\n",
                "split_dataset = dataset[\"train\"].train_test_split(test_size=0.2)\n",
                "train_dataset = split_dataset[\"train\"]\n",
                "test_dataset = split_dataset[\"test\"]\n",
                "\n",
                "train_dataset, test_dataset"
            ]
        },
        {
            "cell_type": "markdown",
            "metadata": {},
            "source": [
                "## Save Preprocessed Dataset\n",
                "Finally, we will save the preprocessed datasets to CSV files for future use."
            ]
        },
        {
            "cell_type": "code",
            "execution_count": 9,
            "metadata": {},
            "outputs": [],
            "source": [
                "import pandas as pd\n",
                "\n",
                "# Convert to pandas DataFrame and save as CSV\\n\n",
                "train_df = pd.DataFrame(train_dataset)\n",
                "test_df = pd.DataFrame(test_dataset)\n",
                "\n",
                "train_df.to_csv(\"sentiment_train.csv\", index=False, encoding=\"utf-8-sig\")\n",
                "test_df.to_csv(\"sentiment_validation.csv\", index=False, encoding=\"utf-8-sig\")"
            ]
        },
        {
            "cell_type": "markdown",
            "metadata": {},
            "source": [
                "## Conclusion\n",
                "In this notebook, we demonstrated how to load a CSV dataset, and split it into training and test sets using Hugging Face's `datasets` library, and save the preprocessed datasets as CSV files."
            ]
        }
    ],
    "metadata": {
        "kernelspec": {
            "display_name": "Python 3",
            "language": "python",
            "name": "python3"
        },
        "language_info": {
            "codemirror_mode": {
                "name": "ipython",
                "version": 3
            },
            "file_extension": ".py",
            "mimetype": "text/x-python",
            "name": "python",
            "nbconvert_exporter": "python",
            "pygments_lexer": "ipython3",
            "version": "3.11.9"
        }
    },
    "nbformat": 4,
    "nbformat_minor": 4
}
